{
 "cells": [
  {
   "cell_type": "code",
   "execution_count": null,
   "metadata": {},
   "outputs": [],
   "source": [
    "from PIL import Image\n",
    "import os\n",
    "import numpy as np"
   ]
  },
  {
   "cell_type": "code",
   "execution_count": null,
   "metadata": {},
   "outputs": [],
   "source": [
    "data_dir = \"./images/\"\n",
    "files = os.listdir(data_dir)\n",
    "\n",
    "images = []\n",
    "\n",
    "for file in files:\n",
    "    path = os.path.join(data_dir, file)\n",
    "    images.append(np.array(Image.open(path)))"
   ]
  },
  {
   "cell_type": "code",
   "execution_count": null,
   "metadata": {},
   "outputs": [],
   "source": [
    "import tensorflow as tf\n",
    "\n",
    "resized_images = np.array(np.zeros(len(images), 244, 244, 3))\n",
    "for i in range(len(images)):\n",
    "    resized_images[i] = tf.image.resize(images[i], [244, 244])\n",
    "preprocessed_images = tf.keras.applications.mobilenet_v2.preprocess_input(resized_images)"
   ]
  },
  {
   "cell_type": "code",
   "execution_count": null,
   "metadata": {},
   "outputs": [],
   "source": [
    "mobilenet_imagenet_model = tf.keras.applications.MobileNetV2(weights=\"imagenet\")\n",
    "\n",
    "y_pred = mobilenet_imagenet_model.predict(preprocessed_images)\n",
    "topK = 1\n",
    "y_pred_top = tf.keras.applications.mobilenet_v2.decode_predictions(y_pred, top=topK)"
   ]
  },
  {
   "cell_type": "code",
   "execution_count": null,
   "metadata": {},
   "outputs": [],
   "source": [
    "y_pred.shape"
   ]
  },
  {
   "cell_type": "code",
   "execution_count": null,
   "metadata": {},
   "outputs": [],
   "source": [
    "from matplotlib import pyplot as plt\n",
    "import numpy as np\n",
    "\n",
    "for i in range(len(images)):\n",
    "    plt.imshow(images[i])\n",
    "    plt.show()\n",
    "\n",
    "    for k in range(topK):\n",
    "        print(f'{y_pred_top[i][k][1]} ({round(y_pred_top[i][k][2] * 100, 1)}%)')\n"
   ]
  }
 ],
 "metadata": {
  "language_info": {
   "name": "python"
  },
  "orig_nbformat": 4
 },
 "nbformat": 4,
 "nbformat_minor": 2
}
